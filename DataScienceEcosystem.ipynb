{
 "cells": [
  {
   "cell_type": "markdown",
   "id": "bc2edc79-c6c7-4e3c-972d-d866cf17fefe",
   "metadata": {},
   "source": [
    "# Data Science Tools and Ecosystem"
   ]
  },
  {
   "cell_type": "markdown",
   "id": "59443c7c-1361-4ac1-b9e1-0c172ed01634",
   "metadata": {},
   "source": [
    "- List popular languages for Data Science\n",
    "- example1\n",
    "- example2"
   ]
  },
  {
   "cell_type": "markdown",
   "id": "f4d921a7-3766-43a8-998f-85e781022726",
   "metadata": {},
   "source": [
    "## In this notebook, Data Science Tools and Ecosystem are summarized."
   ]
  },
  {
   "cell_type": "markdown",
   "id": "dbf90205-22ba-474e-bbc3-3c1f2a11efbb",
   "metadata": {},
   "source": [
    "Some of the popular languages that Data Scientists use are:\n",
    "1. Python\n",
    "2. example2\n",
    "3. example3"
   ]
  },
  {
   "cell_type": "markdown",
   "id": "93e75423-f3cc-42d5-872d-ba0ca4c6398c",
   "metadata": {},
   "source": [
    "Some of the commonly used libraries used by Data Scientists include:\n",
    "1. example1\n",
    "2. example2\n",
    "3. example3"
   ]
  },
  {
   "cell_type": "markdown",
   "id": "13086686-7c58-434b-b569-78f5a7d3ba49",
   "metadata": {},
   "source": [
    "| **Data Science Tools** |\n",
    "--------------------------\n",
    "| example1 |\n",
    "| example2 | \n",
    "| example3 |"
   ]
  },
  {
   "cell_type": "markdown",
   "id": "83fe8c5d-08c7-4ad0-b334-96094fa8465b",
   "metadata": {},
   "source": [
    "### Below are a few examples of evaluating arithmetic expressions in Python."
   ]
  },
  {
   "cell_type": "code",
   "execution_count": null,
   "id": "a49ef404-751f-4646-932d-618b52445c12",
   "metadata": {},
   "outputs": [],
   "source": [
    "#This a simple arithmetic expression to mutiply then add integers\n",
    "\n",
    "(3*4)+5"
   ]
  },
  {
   "cell_type": "code",
   "execution_count": null,
   "id": "65c553e6-f9b9-46da-b46b-036741601832",
   "metadata": {},
   "outputs": [],
   "source": [
    "#This will convert 200 minutes to hours by diving by 60\n",
    "minutes = 200\n",
    "hours = minutes/60"
   ]
  },
  {
   "cell_type": "code",
   "execution_count": 15,
   "id": "0f5cbb01-3d84-4e1a-bf97-4d968fcf3a57",
   "metadata": {},
   "outputs": [
    {
     "name": "stdout",
     "output_type": "stream",
     "text": [
      "200 minutes is equal to 3.3333333333333335 hours.\n"
     ]
    }
   ],
   "source": [
    "print(f\"{minutes} minutes is equal to {hours} hours.\")"
   ]
  },
  {
   "cell_type": "markdown",
   "id": "e604712b-c307-492f-ada2-8bec4f66fc7c",
   "metadata": {},
   "source": [
    "Objectives:"
   ]
  },
  {
   "cell_type": "markdown",
   "id": "abd6b044-11b7-49d3-8795-a959dfda1604",
   "metadata": {},
   "source": [
    "- List popular languages for Data Science\n",
    "- example2\n",
    "- example3"
   ]
  },
  {
   "cell_type": "markdown",
   "id": "111cfea9-98ef-4a7e-b284-9693f339c981",
   "metadata": {},
   "source": [
    "# Author"
   ]
  },
  {
   "cell_type": "markdown",
   "id": "355eb1f4-46d2-4bc4-b1fa-b64948ac90b5",
   "metadata": {},
   "source": [
    "## Javar Scott"
   ]
  }
 ],
 "metadata": {
  "kernelspec": {
   "display_name": "anaconda-ai-2024.04-py310",
   "language": "python",
   "name": "conda-env-anaconda-ai-2024.04-py310-py"
  },
  "language_info": {
   "codemirror_mode": {
    "name": "ipython",
    "version": 3
   },
   "file_extension": ".py",
   "mimetype": "text/x-python",
   "name": "python",
   "nbconvert_exporter": "python",
   "pygments_lexer": "ipython3",
   "version": "3.10.13"
  }
 },
 "nbformat": 4,
 "nbformat_minor": 5
}
